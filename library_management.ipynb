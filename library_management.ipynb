{
 "cells": [
  {
   "cell_type": "code",
   "execution_count": 3,
   "id": "331cfb25-2be2-4465-a983-f14a9fc7145e",
   "metadata": {},
   "outputs": [],
   "source": [
    "from sqlalchemy.orm import sessionmaker\n",
    "import os"
   ]
  },
  {
   "cell_type": "code",
   "execution_count": 4,
   "id": "99cedf94-e091-4cea-9ccc-2c9e72b300ab",
   "metadata": {},
   "outputs": [],
   "source": [
    "%run ./engine.ipynb"
   ]
  },
  {
   "cell_type": "code",
   "execution_count": 5,
   "id": "3c4c7501-6d60-4412-90c7-a0b2c8b0bda4",
   "metadata": {},
   "outputs": [],
   "source": [
    "Session = sessionmaker(bind=engine)\n",
    "session = Session()"
   ]
  },
  {
   "cell_type": "code",
   "execution_count": 6,
   "id": "add863a8-7f07-4a93-b257-1f15c5a52343",
   "metadata": {},
   "outputs": [],
   "source": [
    "class LibraryManegament:\n",
    "    def __init__(self,session:Session):\n",
    "        self.session=session\n",
    "\n",
    "\n",
    "    def search_book(self,book_title:str):\n",
    "        return self.session.query(Book).filter_by(title=book_title).first()\n",
    "\n",
    "        \n",
    "    \n",
    "    def add_book(self,book_title:str,author_name:str,genre:str,publisher:str,language:str,copies_total=1):\n",
    "        book = self.session.query(Book).filter_by(title=book_title).first()\n",
    "        author = self.session.query(Author).filter_by(name=author_name).first()\n",
    "        if not author:\n",
    "            author = Author(name=author_name)\n",
    "            self.session.add(author)\n",
    "            self.session.commit()\n",
    "        if not book:\n",
    "            book = Book(\n",
    "                title=book_title,\n",
    "                author=author,\n",
    "                genre=genre,\n",
    "                publisher=publisher,\n",
    "                copies_total=copies_total,\n",
    "                copies_available=copies_total,\n",
    "                language=language,\n",
    "            )\n",
    "  \n",
    "            self.session.add(book)\n",
    "            self.session.commit()\n",
    "    \n",
    "    def loan_book(\n",
    "        self,\n",
    "        borrower_name: str,\n",
    "        borrower_email: str,\n",
    "        book_title: str,\n",
    "        borrowe_phone:str=None,\n",
    "        borrowe_address:str=None,\n",
    "        loan_days: int = 14  # default 2 weeks loan\n",
    "    ):\n",
    "    \n",
    "        # --- Borrower ---\n",
    "        borrower = self.session.query(Borrower).filter_by(email=borrower_email).first()\n",
    "        if not borrower:\n",
    "            borrower = Borrower(\n",
    "                name=borrower_name,\n",
    "                email=borrower_email,\n",
    "                membership_date=datetime.date.today()\n",
    "            )\n",
    "            self.session.add(borrower)\n",
    "            self.session.commit()\n",
    "    \n",
    "        # --- Check Book Availability ---\n",
    "        book = session.query(Book).filter_by(title=book_title).first()\n",
    "        if book.copies_available < 1:\n",
    "            raise Exception(f\"No copies available for '{book_title}'.\")\n",
    "    \n",
    "        # --- Loan ---\n",
    "        today = datetime.date.today()\n",
    "        due_date = today + datetime.timedelta(days=loan_days)\n",
    "    \n",
    "        loan = Loan(\n",
    "            book=book,\n",
    "            borrower=borrower,\n",
    "            loan_date=today,\n",
    "            due_date=due_date,\n",
    "            status=\"On Loan\"\n",
    "        )\n",
    "        self.session.add(loan)\n",
    "\n",
    "        book.copies_available -= 1\n",
    "        session.commit()\n",
    "\n",
    "    def return_book(self,book_title:str):\n",
    "        book = self.session.query(Book).filter_by(title=book_title).first()\n",
    "        book.copies_available +=1\n",
    "        loan = session.query(Loan).filter_by(book_id=book.id).first()\n",
    "        today = datetime.date.today()\n",
    "        loan.return_date=today\n",
    "        loan.status='Returned'\n",
    "        session.commit()\n"
   ]
  },
  {
   "cell_type": "code",
   "execution_count": null,
   "id": "7cc996c5-8997-4e22-baa2-b7346b6acbef",
   "metadata": {},
   "outputs": [],
   "source": []
  }
 ],
 "metadata": {
  "kernelspec": {
   "display_name": "Python 3 (ipykernel)",
   "language": "python",
   "name": "python3"
  },
  "language_info": {
   "codemirror_mode": {
    "name": "ipython",
    "version": 3
   },
   "file_extension": ".py",
   "mimetype": "text/x-python",
   "name": "python",
   "nbconvert_exporter": "python",
   "pygments_lexer": "ipython3",
   "version": "3.13.3"
  }
 },
 "nbformat": 4,
 "nbformat_minor": 5
}
