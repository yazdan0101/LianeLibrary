{
 "cells": [
  {
   "cell_type": "code",
   "execution_count": 12,
   "id": "86d96c56-e7ea-47be-8879-6bd4229e61e0",
   "metadata": {},
   "outputs": [],
   "source": [
    "from sqlalchemy import create_engine\n",
    "from dotenv import load_dotenv"
   ]
  },
  {
   "cell_type": "code",
   "execution_count": 9,
   "id": "8972910c-84cb-4f29-95f1-4c4def3a357b",
   "metadata": {},
   "outputs": [],
   "source": [
    "load_dotenv()  # load .env file\n",
    "mysql_user = os.getenv(\"MYSQL_USER\")\n",
    "mysql_password = os.getenv(\"MYSQL_PASSWORD\")\n",
    "mysql_host = os.getenv(\"MYSQL_HOST\")\n",
    "mysql_db = os.getenv(\"MYSQL_DB\")"
   ]
  },
  {
   "cell_type": "code",
   "execution_count": 13,
   "id": "39bc94d2-3acb-4b45-910a-32560e41b621",
   "metadata": {},
   "outputs": [],
   "source": [
    "engine = create_engine(f\"mysql+pymysql://{mysql_user}:{mysql_password}@{mysql_host}/{mysql_db}\")"
   ]
  }
 ],
 "metadata": {
  "kernelspec": {
   "display_name": "Python 3 (ipykernel)",
   "language": "python",
   "name": "python3"
  },
  "language_info": {
   "codemirror_mode": {
    "name": "ipython",
    "version": 3
   },
   "file_extension": ".py",
   "mimetype": "text/x-python",
   "name": "python",
   "nbconvert_exporter": "python",
   "pygments_lexer": "ipython3",
   "version": "3.13.3"
  }
 },
 "nbformat": 4,
 "nbformat_minor": 5
}
