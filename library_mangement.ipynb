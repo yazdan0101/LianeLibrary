{
 "cells": [
  {
   "cell_type": "code",
   "execution_count": 1,
   "id": "331cfb25-2be2-4465-a983-f14a9fc7145e",
   "metadata": {},
   "outputs": [],
   "source": [
    "from sqlalchemy.orm import sessionmaker"
   ]
  },
  {
   "cell_type": "code",
   "execution_count": 2,
   "id": "99cedf94-e091-4cea-9ccc-2c9e72b300ab",
   "metadata": {},
   "outputs": [
    {
     "ename": "NameError",
     "evalue": "name 'os' is not defined",
     "output_type": "error",
     "traceback": [
      "\u001b[31m---------------------------------------------------------------------------\u001b[39m",
      "\u001b[31mNameError\u001b[39m                                 Traceback (most recent call last)",
      "\u001b[36mFile \u001b[39m\u001b[32m/var/folders/ht/xqykyjwd31z88jx949sd_jjw0000gn/T/ipykernel_86195/1202208887.py:2\u001b[39m\n\u001b[32m      1\u001b[39m load_dotenv()  \u001b[38;5;66;03m# load .env file\u001b[39;00m\n\u001b[32m----> \u001b[39m\u001b[32m2\u001b[39m mysql_user = \u001b[43mos\u001b[49m.getenv(\u001b[33m\"\u001b[39m\u001b[33mMYSQL_USER\u001b[39m\u001b[33m\"\u001b[39m)\n\u001b[32m      3\u001b[39m mysql_password = os.getenv(\u001b[33m\"\u001b[39m\u001b[33mMYSQL_PASSWORD\u001b[39m\u001b[33m\"\u001b[39m)\n\u001b[32m      4\u001b[39m mysql_host = os.getenv(\u001b[33m\"\u001b[39m\u001b[33mMYSQL_HOST\u001b[39m\u001b[33m\"\u001b[39m)\n",
      "\u001b[31mNameError\u001b[39m: name 'os' is not defined"
     ]
    },
    {
     "ename": "NameError",
     "evalue": "name 'os' is not defined",
     "output_type": "error",
     "traceback": [
      "\u001b[31m---------------------------------------------------------------------------\u001b[39m",
      "\u001b[31mNameError\u001b[39m                                 Traceback (most recent call last)",
      "\u001b[36mCell\u001b[39m\u001b[36m \u001b[39m\u001b[32mIn[2]\u001b[39m\u001b[32m, line 1\u001b[39m\n\u001b[32m----> \u001b[39m\u001b[32m1\u001b[39m \u001b[43mget_ipython\u001b[49m\u001b[43m(\u001b[49m\u001b[43m)\u001b[49m\u001b[43m.\u001b[49m\u001b[43mrun_line_magic\u001b[49m\u001b[43m(\u001b[49m\u001b[33;43m'\u001b[39;49m\u001b[33;43mrun\u001b[39;49m\u001b[33;43m'\u001b[39;49m\u001b[43m,\u001b[49m\u001b[43m \u001b[49m\u001b[33;43m'\u001b[39;49m\u001b[33;43m./engine.ipynb\u001b[39;49m\u001b[33;43m'\u001b[39;49m\u001b[43m)\u001b[49m\n",
      "\u001b[36mFile \u001b[39m\u001b[32m~/Desktop/Liane/venv/lib/python3.13/site-packages/IPython/core/interactiveshell.py:2504\u001b[39m, in \u001b[36mInteractiveShell.run_line_magic\u001b[39m\u001b[34m(self, magic_name, line, _stack_depth)\u001b[39m\n\u001b[32m   2502\u001b[39m     kwargs[\u001b[33m'\u001b[39m\u001b[33mlocal_ns\u001b[39m\u001b[33m'\u001b[39m] = \u001b[38;5;28mself\u001b[39m.get_local_scope(stack_depth)\n\u001b[32m   2503\u001b[39m \u001b[38;5;28;01mwith\u001b[39;00m \u001b[38;5;28mself\u001b[39m.builtin_trap:\n\u001b[32m-> \u001b[39m\u001b[32m2504\u001b[39m     result = \u001b[43mfn\u001b[49m\u001b[43m(\u001b[49m\u001b[43m*\u001b[49m\u001b[43margs\u001b[49m\u001b[43m,\u001b[49m\u001b[43m \u001b[49m\u001b[43m*\u001b[49m\u001b[43m*\u001b[49m\u001b[43mkwargs\u001b[49m\u001b[43m)\u001b[49m\n\u001b[32m   2506\u001b[39m \u001b[38;5;66;03m# The code below prevents the output from being displayed\u001b[39;00m\n\u001b[32m   2507\u001b[39m \u001b[38;5;66;03m# when using magics with decorator @output_can_be_silenced\u001b[39;00m\n\u001b[32m   2508\u001b[39m \u001b[38;5;66;03m# when the last Python token in the expression is a ';'.\u001b[39;00m\n\u001b[32m   2509\u001b[39m \u001b[38;5;28;01mif\u001b[39;00m \u001b[38;5;28mgetattr\u001b[39m(fn, magic.MAGIC_OUTPUT_CAN_BE_SILENCED, \u001b[38;5;28;01mFalse\u001b[39;00m):\n",
      "\u001b[36mFile \u001b[39m\u001b[32m~/Desktop/Liane/venv/lib/python3.13/site-packages/IPython/core/magics/execution.py:749\u001b[39m, in \u001b[36mExecutionMagics.run\u001b[39m\u001b[34m(self, parameter_s, runner, file_finder)\u001b[39m\n\u001b[32m    747\u001b[39m     \u001b[38;5;28;01mwith\u001b[39;00m preserve_keys(\u001b[38;5;28mself\u001b[39m.shell.user_ns, \u001b[33m'\u001b[39m\u001b[33m__file__\u001b[39m\u001b[33m'\u001b[39m):\n\u001b[32m    748\u001b[39m         \u001b[38;5;28mself\u001b[39m.shell.user_ns[\u001b[33m'\u001b[39m\u001b[33m__file__\u001b[39m\u001b[33m'\u001b[39m] = filename\n\u001b[32m--> \u001b[39m\u001b[32m749\u001b[39m         \u001b[38;5;28;43mself\u001b[39;49m\u001b[43m.\u001b[49m\u001b[43mshell\u001b[49m\u001b[43m.\u001b[49m\u001b[43msafe_execfile_ipy\u001b[49m\u001b[43m(\u001b[49m\u001b[43mfilename\u001b[49m\u001b[43m,\u001b[49m\u001b[43m \u001b[49m\u001b[43mraise_exceptions\u001b[49m\u001b[43m=\u001b[49m\u001b[38;5;28;43;01mTrue\u001b[39;49;00m\u001b[43m)\u001b[49m\n\u001b[32m    750\u001b[39m     \u001b[38;5;28;01mreturn\u001b[39;00m\n\u001b[32m    752\u001b[39m \u001b[38;5;66;03m# Control the response to exit() calls made by the script being run\u001b[39;00m\n",
      "\u001b[36mFile \u001b[39m\u001b[32m~/Desktop/Liane/venv/lib/python3.13/site-packages/IPython/core/interactiveshell.py:2995\u001b[39m, in \u001b[36mInteractiveShell.safe_execfile_ipy\u001b[39m\u001b[34m(self, fname, shell_futures, raise_exceptions)\u001b[39m\n\u001b[32m   2993\u001b[39m result = \u001b[38;5;28mself\u001b[39m.run_cell(cell, silent=\u001b[38;5;28;01mTrue\u001b[39;00m, shell_futures=shell_futures)\n\u001b[32m   2994\u001b[39m \u001b[38;5;28;01mif\u001b[39;00m raise_exceptions:\n\u001b[32m-> \u001b[39m\u001b[32m2995\u001b[39m     \u001b[43mresult\u001b[49m\u001b[43m.\u001b[49m\u001b[43mraise_error\u001b[49m\u001b[43m(\u001b[49m\u001b[43m)\u001b[49m\n\u001b[32m   2996\u001b[39m \u001b[38;5;28;01melif\u001b[39;00m \u001b[38;5;129;01mnot\u001b[39;00m result.success:\n\u001b[32m   2997\u001b[39m     \u001b[38;5;28;01mbreak\u001b[39;00m\n",
      "\u001b[36mFile \u001b[39m\u001b[32m~/Desktop/Liane/venv/lib/python3.13/site-packages/IPython/core/interactiveshell.py:326\u001b[39m, in \u001b[36mExecutionResult.raise_error\u001b[39m\u001b[34m(self)\u001b[39m\n\u001b[32m    324\u001b[39m     \u001b[38;5;28;01mraise\u001b[39;00m \u001b[38;5;28mself\u001b[39m.error_before_exec\n\u001b[32m    325\u001b[39m \u001b[38;5;28;01mif\u001b[39;00m \u001b[38;5;28mself\u001b[39m.error_in_exec \u001b[38;5;129;01mis\u001b[39;00m \u001b[38;5;129;01mnot\u001b[39;00m \u001b[38;5;28;01mNone\u001b[39;00m:\n\u001b[32m--> \u001b[39m\u001b[32m326\u001b[39m     \u001b[38;5;28;01mraise\u001b[39;00m \u001b[38;5;28mself\u001b[39m.error_in_exec\n",
      "    \u001b[31m[... skipping hidden 1 frame]\u001b[39m\n",
      "\u001b[36mFile \u001b[39m\u001b[32m/var/folders/ht/xqykyjwd31z88jx949sd_jjw0000gn/T/ipykernel_86195/1202208887.py:2\u001b[39m\n\u001b[32m      1\u001b[39m load_dotenv()  \u001b[38;5;66;03m# load .env file\u001b[39;00m\n\u001b[32m----> \u001b[39m\u001b[32m2\u001b[39m mysql_user = \u001b[43mos\u001b[49m.getenv(\u001b[33m\"\u001b[39m\u001b[33mMYSQL_USER\u001b[39m\u001b[33m\"\u001b[39m)\n\u001b[32m      3\u001b[39m mysql_password = os.getenv(\u001b[33m\"\u001b[39m\u001b[33mMYSQL_PASSWORD\u001b[39m\u001b[33m\"\u001b[39m)\n\u001b[32m      4\u001b[39m mysql_host = os.getenv(\u001b[33m\"\u001b[39m\u001b[33mMYSQL_HOST\u001b[39m\u001b[33m\"\u001b[39m)\n",
      "\u001b[31mNameError\u001b[39m: name 'os' is not defined"
     ]
    }
   ],
   "source": [
    "%run ./engine.ipynb"
   ]
  },
  {
   "cell_type": "code",
   "execution_count": null,
   "id": "3c4c7501-6d60-4412-90c7-a0b2c8b0bda4",
   "metadata": {},
   "outputs": [],
   "source": [
    "Session = sessionmaker(bind=engine)\n",
    "session = Session()"
   ]
  },
  {
   "cell_type": "code",
   "execution_count": null,
   "id": "add863a8-7f07-4a93-b257-1f15c5a52343",
   "metadata": {},
   "outputs": [],
   "source": [
    "class LibraryManegament:\n",
    "    def __init__(self,session:Session):\n",
    "        self.session=session\n",
    "\n",
    "\n",
    "    def search_book(self,book_title:str):\n",
    "        return self.session.query(Book).filter_by(title=book_title).first()\n",
    "\n",
    "        \n",
    "    \n",
    "    def add_book(self,book_title:str,author_name:str,genre:str,publisher:str,language:str,copies_total=1):\n",
    "        book = self.session.query(Book).filter_by(title=book_title).first()\n",
    "        author = self.session.query(Author).filter_by(name=author_name).first()\n",
    "        if not author:\n",
    "            author = Author(name=author_name)\n",
    "            self.session.add(author)\n",
    "            self.session.commit()\n",
    "        if not book:\n",
    "            book = Book(\n",
    "                title=book_title,\n",
    "                author=author,\n",
    "                genre=genre,\n",
    "                publisher=publisher,\n",
    "                copies_total=copies_total,\n",
    "                copies_available=copies_total,\n",
    "                language=language,\n",
    "            )\n",
    "  \n",
    "            self.session.add(book)\n",
    "            self.session.commit()\n",
    "    \n",
    "    def loan_book(\n",
    "        self,\n",
    "        borrower_name: str,\n",
    "        borrower_email: str,\n",
    "        book_title: str,\n",
    "        borrowe_phone:str=None,\n",
    "        borrowe_address:str=None,\n",
    "        loan_days: int = 14  # default 2 weeks loan\n",
    "    ):\n",
    "    \n",
    "        # --- Borrower ---\n",
    "        borrower = self.session.query(Borrower).filter_by(email=borrower_email).first()\n",
    "        if not borrower:\n",
    "            borrower = Borrower(\n",
    "                name=borrower_name,\n",
    "                email=borrower_email,\n",
    "                membership_date=datetime.date.today()\n",
    "            )\n",
    "            self.session.add(borrower)\n",
    "            self.session.commit()\n",
    "    \n",
    "        # --- Check Book Availability ---\n",
    "        book = session.query(Book).filter_by(title=book_title).first()\n",
    "        if book.copies_available < 1:\n",
    "            raise Exception(f\"No copies available for '{book_title}'.\")\n",
    "    \n",
    "        # --- Loan ---\n",
    "        today = datetime.date.today()\n",
    "        due_date = today + datetime.timedelta(days=loan_days)\n",
    "    \n",
    "        loan = Loan(\n",
    "            book=book,\n",
    "            borrower=borrower,\n",
    "            loan_date=today,\n",
    "            due_date=due_date,\n",
    "            status=\"On Loan\"\n",
    "        )\n",
    "        self.session.add(loan)\n",
    "\n",
    "        book.copies_available -= 1\n",
    "        session.commit()\n",
    "\n",
    "    def return_book(self,book_title:str):\n",
    "        book = self.session.query(Book).filter_by(title=book_title).first()\n",
    "        book.copies_available +=1\n",
    "        loan = session.query(Loan).filter_by(book_id=book.id).first()\n",
    "        today = datetime.date.today()\n",
    "        loan.return_date=today\n",
    "        loan.status='Returned'\n",
    "        session.commit()\n",
    "\n",
    "    \n",
    "    \n",
    "    \n",
    "    "
   ]
  }
 ],
 "metadata": {
  "kernelspec": {
   "display_name": "Python 3 (ipykernel)",
   "language": "python",
   "name": "python3"
  },
  "language_info": {
   "codemirror_mode": {
    "name": "ipython",
    "version": 3
   },
   "file_extension": ".py",
   "mimetype": "text/x-python",
   "name": "python",
   "nbconvert_exporter": "python",
   "pygments_lexer": "ipython3",
   "version": "3.13.3"
  }
 },
 "nbformat": 4,
 "nbformat_minor": 5
}
